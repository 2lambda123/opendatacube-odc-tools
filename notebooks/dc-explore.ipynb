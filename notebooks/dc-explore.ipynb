{
 "cells": [
  {
   "cell_type": "code",
   "execution_count": null,
   "metadata": {},
   "outputs": [],
   "source": [
    "from odc.ui import DcViewer\n",
    "from datacube import Datacube\n",
    "\n",
    "dc = Datacube(env='s2')\n",
    "\n",
    "dcv = DcViewer(\n",
    "    dc, \n",
    "    time='2019-04-24',\n",
    "    zoom=3,\n",
    "    center=(-24, 135),\n",
    "    height='500px', width='800px',\n",
    "    products='non-empty',\n",
    "    style={'fillOpacity': 0.05,\n",
    "            'color': 'teal',\n",
    "            'weight': 0.7})\n",
    "dcv"
   ]
  },
  {
   "cell_type": "markdown",
   "metadata": {},
   "source": [
    "-------------------------------------------------------------------------"
   ]
  }
 ],
 "metadata": {
  "kernelspec": {
   "display_name": "Python 3",
   "language": "python",
   "name": "python3"
  },
  "language_info": {
   "codemirror_mode": {
    "name": "ipython",
    "version": 3
   },
   "file_extension": ".py",
   "mimetype": "text/x-python",
   "name": "python",
   "nbconvert_exporter": "python",
   "pygments_lexer": "ipython3",
   "version": "3.6.7"
  }
 },
 "nbformat": 4,
 "nbformat_minor": 2
}
