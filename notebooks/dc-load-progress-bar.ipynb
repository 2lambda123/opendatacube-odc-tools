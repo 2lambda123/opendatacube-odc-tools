{
 "cells": [
  {
   "cell_type": "code",
   "execution_count": null,
   "metadata": {},
   "outputs": [],
   "source": [
    "%matplotlib inline\n",
    "from matplotlib import pyplot as plt\n",
    "import numpy as np\n",
    "\n",
    "from odc.ui import with_ui_cbk, show_datasets, to_rgba, image_aspect\n",
    "import datacube\n",
    "from datacube.utils.rio import set_default_rio_config\n",
    "\n",
    "set_default_rio_config(aws={'region_name': 'auto'},\n",
    "                       cloud_defaults=True,\n",
    "                       GDAL_INGESTED_BYTES_AT_OPEN=16*1024)"
   ]
  },
  {
   "cell_type": "code",
   "execution_count": null,
   "metadata": {},
   "outputs": [],
   "source": [
    "PRODUCT = 'ls8_nbart_geomedian_annual'\n",
    "NATIVE_RES = (-25, 25)\n",
    "CRS = 'EPSG:3577'\n",
    "\n",
    "query = dict(lat=(-38, -26),\n",
    "             lon=(134, 141),\n",
    "             time=('2017-01-01', '2017-12-31'))\n",
    "\n",
    "dc = datacube.Datacube(env='gm')"
   ]
  },
  {
   "cell_type": "code",
   "execution_count": null,
   "metadata": {},
   "outputs": [],
   "source": [
    "dss = dc.find_datasets(product=PRODUCT, **query)\n",
    "\n",
    "show_datasets(dss)"
   ]
  },
  {
   "cell_type": "code",
   "execution_count": null,
   "metadata": {},
   "outputs": [],
   "source": [
    "%%time\n",
    "xx = dc.load(product=PRODUCT,\n",
    "             **query,\n",
    "             output_crs=CRS,\n",
    "             measurements=['red', 'green', 'blue'],\n",
    "             resolution=tuple(32*n for n in NATIVE_RES),\n",
    "             progress_cbk=with_ui_cbk())"
   ]
  },
  {
   "cell_type": "code",
   "execution_count": null,
   "metadata": {},
   "outputs": [],
   "source": [
    "to_rgba(xx, clamp=3000).isel(time=0).plot.imshow(\n",
    "    size=8, \n",
    "    aspect=image_aspect(xx),\n",
    "    add_colorbar=False,\n",
    "    add_labels=False,\n",
    "    interpolation='bilinear');"
   ]
  },
  {
   "cell_type": "markdown",
   "metadata": {},
   "source": [
    "-----------------------------------------------------------------------"
   ]
  }
 ],
 "metadata": {
  "kernelspec": {
   "display_name": "Python 3",
   "language": "python",
   "name": "python3"
  },
  "language_info": {
   "codemirror_mode": {
    "name": "ipython",
    "version": 3
   },
   "file_extension": ".py",
   "mimetype": "text/x-python",
   "name": "python",
   "nbconvert_exporter": "python",
   "pygments_lexer": "ipython3",
   "version": "3.6.7"
  }
 },
 "nbformat": 4,
 "nbformat_minor": 2
}
