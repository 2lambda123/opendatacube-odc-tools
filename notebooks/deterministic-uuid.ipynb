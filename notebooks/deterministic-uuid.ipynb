{
 "cells": [
  {
   "cell_type": "code",
   "execution_count": 1,
   "metadata": {},
   "outputs": [],
   "source": [
    "import uuid\n",
    "from uuid import UUID\n",
    "from typing import Sequence\n",
    "\n",
    "# Some random UUID to be ODC namespace\n",
    "ODC_NS = UUID('6f34c6f4-13d6-43c0-8e4e-42b6c13203af')\n",
    "\n",
    "def odc_uuid(algorithm: str, \n",
    "             algorithm_version: str, \n",
    "             sources: Sequence[UUID], \n",
    "             deployment_id: str = ''):\n",
    "    \"\"\" Generate deterministic UUID for a derived Dataset\n",
    "    \n",
    "    :param algortihm: Name of the algorithm\n",
    "    :param version: Version string of the algorithm\n",
    "    :param sources: Sequence of input Dataset UUIDs\n",
    "    :param deployment_id: Some sort of identifier for installation that performs \n",
    "                          the run, for example Docker image hash, or dea module version on NCI.\n",
    "    \"\"\"\n",
    "    ss = [str(algorithm), str(algorithm_version), str(deployment_id)] + [str(u) for u in sorted(srcs)]\n",
    "    srcs_hashes = '\\n'.join(s.lower() for s in ss)\n",
    "    return uuid.uuid5(ODC_NS, srcs_hashes)"
   ]
  },
  {
   "cell_type": "code",
   "execution_count": 2,
   "metadata": {},
   "outputs": [],
   "source": [
    "# some random sources IDs\n",
    "srcs = [\n",
    "    UUID('e7b2071a-ad2b-47b6-af95-456d851d126b'),\n",
    "    UUID('d7ea15de-30ce-495b-8fec-aea63f5692a1'),\n",
    "    UUID('34f24ff8-6f55-4e10-a15b-a7064ffd6fff'),\n",
    "    UUID('108c013a-ac60-420a-b1aa-23d1d8672572'),\n",
    "    UUID('8ab5ba88-7fa8-4e35-855f-9160eb18bc49')]"
   ]
  },
  {
   "cell_type": "code",
   "execution_count": 3,
   "metadata": {},
   "outputs": [
    {
     "data": {
      "text/plain": [
       "(UUID('9ae617f5-1c2b-5b2f-9e58-20f724b877c0'),\n",
       " UUID('5cea3404-219a-5f68-bd77-3ea55e88f25c'))"
      ]
     },
     "execution_count": 3,
     "metadata": {},
     "output_type": "execute_result"
    }
   ],
   "source": [
    "odc_uuid('wofs', '1.3.1', srcs), odc_uuid('fc', '2.3', srcs)"
   ]
  },
  {
   "cell_type": "code",
   "execution_count": 4,
   "metadata": {},
   "outputs": [
    {
     "data": {
      "text/plain": [
       "(UUID('9ae617f5-1c2b-5b2f-9e58-20f724b877c0'),\n",
       " UUID('5cea3404-219a-5f68-bd77-3ea55e88f25c'))"
      ]
     },
     "execution_count": 4,
     "metadata": {},
     "output_type": "execute_result"
    }
   ],
   "source": [
    "odc_uuid('wofs', '1.3.1', srcs), odc_uuid('fc', '2.3', srcs[::-1])"
   ]
  }
 ],
 "metadata": {
  "kernelspec": {
   "display_name": "Python 3",
   "language": "python",
   "name": "python3"
  },
  "language_info": {
   "codemirror_mode": {
    "name": "ipython",
    "version": 3
   },
   "file_extension": ".py",
   "mimetype": "text/x-python",
   "name": "python",
   "nbconvert_exporter": "python",
   "pygments_lexer": "ipython3",
   "version": "3.6.7"
  }
 },
 "nbformat": 4,
 "nbformat_minor": 2
}
