{
 "cells": [
  {
   "cell_type": "code",
   "execution_count": 2,
   "metadata": {},
   "outputs": [
    {
     "data": {
      "application/vnd.jupyter.widget-view+json": {
       "model_id": "430a32312d064880bb2442243b915b8d",
       "version_major": 2,
       "version_minor": 0
      },
      "text/plain": [
       "Map(basemap={'url': 'https://{s}.tile.openstreetmap.org/{z}/{x}/{y}.png', 'max_zoom': 19, 'attribution': 'Map …"
      ]
     },
     "metadata": {},
     "output_type": "display_data"
    }
   ],
   "source": [
    "from odc.ui import select_on_a_map\n",
    "\n",
    "geopolygon = select_on_a_map(height='500px', \n",
    "                             center=(-24, 133),\n",
    "                             zoom=4)"
   ]
  },
  {
   "cell_type": "code",
   "execution_count": 3,
   "metadata": {},
   "outputs": [
    {
     "data": {
      "text/plain": [
       "Geometry(POLYGON ((127.054457 -29.157277,133.823441 -24.772104,139.889154 -29.463832,137.691432 -38.415148,127.054457 -29.157277)), EPSG:4326)"
      ]
     },
     "execution_count": 3,
     "metadata": {},
     "output_type": "execute_result"
    }
   ],
   "source": [
    "geopolygon"
   ]
  }
 ],
 "metadata": {
  "kernelspec": {
   "display_name": "Python 3",
   "language": "python",
   "name": "python3"
  },
  "language_info": {
   "codemirror_mode": {
    "name": "ipython",
    "version": 3
   },
   "file_extension": ".py",
   "mimetype": "text/x-python",
   "name": "python",
   "nbconvert_exporter": "python",
   "pygments_lexer": "ipython3",
   "version": "3.6.8"
  },
  "widgets": {
   "application/vnd.jupyter.widget-state+json": {
    "state": {
     "04ecff59d95d440caf2c8065bc44f84c": {
      "model_module": "jupyter-leaflet",
      "model_module_version": "^0.11.0",
      "model_name": "LeafletMapStyleModel",
      "state": {
       "_model_module_version": "^0.11.0",
       "_view_count": null,
       "_view_module": "@jupyter-widgets/base",
       "_view_module_version": "1.2.0",
       "_view_name": "StyleView",
       "cursor": "grab"
      }
     },
     "0a67467ed08042009bbe8fcdcf21ee4c": {
      "model_module": "jupyter-leaflet",
      "model_module_version": "^0.11.0",
      "model_name": "LeafletWidgetControlModel",
      "state": {
       "_model_module_version": "^0.11.0",
       "_view_count": null,
       "_view_module_version": "^0.11.0",
       "options": [
        "position"
       ],
       "position": "bottomleft",
       "widget": "IPY_MODEL_6962124c724845dabd8a68102fed50f5"
      }
     },
     "11f45c3060d74a36b5094573c34e2d2b": {
      "model_module": "@jupyter-widgets/base",
      "model_module_version": "1.2.0",
      "model_name": "LayoutModel",
      "state": {
       "width": "5em"
      }
     },
     "135d5159e665463c86c3ae9024ef73b8": {
      "model_module": "jupyter-leaflet",
      "model_module_version": "^0.11.0",
      "model_name": "LeafletWidgetControlModel",
      "state": {
       "_model_module_version": "^0.11.0",
       "_view_count": null,
       "_view_module_version": "^0.11.0",
       "options": [
        "position"
       ],
       "position": "topright",
       "widget": "IPY_MODEL_b9a9accecbaa45b1b40a53dbd2f97205"
      }
     },
     "1d309ffe7b044f40aec37c17f057885e": {
      "model_module": "@jupyter-widgets/controls",
      "model_module_version": "1.5.0",
      "model_name": "ButtonStyleModel",
      "state": {
       "button_color": "green"
      }
     },
     "2d4e29b1e97440f080a3b65471cb8f21": {
      "model_module": "jupyter-leaflet",
      "model_module_version": "^0.11.0",
      "model_name": "LeafletFullScreenControlModel",
      "state": {
       "_model_module_version": "^0.11.0",
       "_view_count": null,
       "_view_module_version": "^0.11.0",
       "options": [
        "position"
       ]
      }
     },
     "36e68361c8744fe18834eea3cb27fb52": {
      "model_module": "@jupyter-widgets/controls",
      "model_module_version": "1.5.0",
      "model_name": "DescriptionStyleModel",
      "state": {
       "description_width": ""
      }
     },
     "3878443e5f9a473cb0dc776a4f71125a": {
      "model_module": "@jupyter-widgets/controls",
      "model_module_version": "1.5.0",
      "model_name": "HTMLModel",
      "state": {
       "layout": "IPY_MODEL_5823bb883bf8473ebe9d94966e6603db",
       "style": "IPY_MODEL_f4b80ef7da034870bba08df4e16b4d12",
       "value": "<pre style=\"color:grey\">lat: [-42.2285, -2.7236]\nlon: [90.7031, 175.3418]</pre>"
      }
     },
     "3fde59851a73421b860c6e709cc2274d": {
      "model_module": "jupyter-leaflet",
      "model_module_version": "^0.11.0",
      "model_name": "LeafletMapModel",
      "state": {
       "_dom_classes": [],
       "_model_module_version": "^0.11.0",
       "_view_count": null,
       "_view_module_version": "^0.11.0",
       "basemap": {
        "attribution": "Map data (c) <a href=\"https://openstreetmap.org\">OpenStreetMap</a> contributors",
        "max_zoom": 19,
        "url": "https://{s}.tile.openstreetmap.org/{z}/{x}/{y}.png"
       },
       "center": [
        -24,
        133
       ],
       "controls": [
        "IPY_MODEL_ccd798ad1524445a913b42cb4ab98f54",
        "IPY_MODEL_52dac3c251294544a826153d14800d87",
        "IPY_MODEL_2d4e29b1e97440f080a3b65471cb8f21"
       ],
       "default_style": "IPY_MODEL_b7acf24ed19b42849812d49a1140bb0f",
       "dragging_style": "IPY_MODEL_5d91f901f0d4440fb47e747abdb86c64",
       "east": 175.34179687500003,
       "fullscreen": false,
       "interpolation": "bilinear",
       "layers": [
        "IPY_MODEL_afd1d75f8cf14b719b6265b54c8b4ca4"
       ],
       "layout": "IPY_MODEL_5d2d2fa3db684ff8a4a7ca4d88e2850c",
       "modisdate": "yesterday",
       "north": -2.7235830833483856,
       "options": [
        "basemap",
        "bounce_at_zoom_limits",
        "box_zoom",
        "center",
        "close_popup_on_click",
        "double_click_zoom",
        "dragging",
        "fullscreen",
        "inertia",
        "inertia_deceleration",
        "inertia_max_speed",
        "interpolation",
        "keyboard",
        "keyboard_pan_offset",
        "keyboard_zoom_offset",
        "max_zoom",
        "min_zoom",
        "scroll_wheel_zoom",
        "tap",
        "tap_tolerance",
        "touch_zoom",
        "world_copy_jump",
        "zoom",
        "zoom_animation_threshold",
        "zoom_start"
       ],
       "scroll_wheel_zoom": true,
       "south": -42.22851735620851,
       "style": "IPY_MODEL_e297a94a5f6b4adb9c0002ace95880d8",
       "west": 90.703125,
       "zoom": 4
      }
     },
     "41b159dbc59e4a919b2ced3c7bd3aa6b": {
      "model_module": "jupyter-leaflet",
      "model_module_version": "^0.11.0",
      "model_name": "LeafletMapStyleModel",
      "state": {
       "_model_module_version": "^0.11.0",
       "_view_count": null,
       "_view_module": "@jupyter-widgets/base",
       "_view_module_version": "1.2.0",
       "_view_name": "StyleView",
       "cursor": "grab"
      }
     },
     "430a32312d064880bb2442243b915b8d": {
      "model_module": "jupyter-leaflet",
      "model_module_version": "^0.11.0",
      "model_name": "LeafletMapModel",
      "state": {
       "_dom_classes": [],
       "_model_module_version": "^0.11.0",
       "_view_count": null,
       "_view_module_version": "^0.11.0",
       "basemap": {
        "attribution": "Map data (c) <a href=\"https://openstreetmap.org\">OpenStreetMap</a> contributors",
        "max_zoom": 19,
        "url": "https://{s}.tile.openstreetmap.org/{z}/{x}/{y}.png"
       },
       "center": [
        -24,
        133
       ],
       "controls": [
        "IPY_MODEL_dfdc1de194eb4812b340270d90af33d1",
        "IPY_MODEL_62779912079842a9be80668402045036",
        "IPY_MODEL_ce59302d33cc4a2ea4ae81fb7cd08db2"
       ],
       "default_style": "IPY_MODEL_04ecff59d95d440caf2c8065bc44f84c",
       "dragging_style": "IPY_MODEL_d8cdfae7bfaf4b37a0c33ebf035ee69e",
       "east": 175.34179687500003,
       "fullscreen": false,
       "interpolation": "bilinear",
       "layers": [
        "IPY_MODEL_b60c0f1b94a045109dbad1a7d52f56b3"
       ],
       "layout": "IPY_MODEL_60b36042fbe34dc7b98155b6704665fd",
       "modisdate": "yesterday",
       "north": -2.7235830833483856,
       "options": [
        "basemap",
        "bounce_at_zoom_limits",
        "box_zoom",
        "center",
        "close_popup_on_click",
        "double_click_zoom",
        "dragging",
        "fullscreen",
        "inertia",
        "inertia_deceleration",
        "inertia_max_speed",
        "interpolation",
        "keyboard",
        "keyboard_pan_offset",
        "keyboard_zoom_offset",
        "max_zoom",
        "min_zoom",
        "scroll_wheel_zoom",
        "tap",
        "tap_tolerance",
        "touch_zoom",
        "world_copy_jump",
        "zoom",
        "zoom_animation_threshold",
        "zoom_start"
       ],
       "scroll_wheel_zoom": true,
       "south": -42.22851735620851,
       "style": "IPY_MODEL_41b159dbc59e4a919b2ced3c7bd3aa6b",
       "west": 90.703125,
       "zoom": 4
      }
     },
     "52dac3c251294544a826153d14800d87": {
      "model_module": "jupyter-leaflet",
      "model_module_version": "^0.11.0",
      "model_name": "LeafletAttributionControlModel",
      "state": {
       "_model_module_version": "^0.11.0",
       "_view_count": null,
       "_view_module_version": "^0.11.0",
       "options": [
        "position",
        "prefix"
       ],
       "position": "bottomright",
       "prefix": "Leaflet"
      }
     },
     "5823bb883bf8473ebe9d94966e6603db": {
      "model_module": "@jupyter-widgets/base",
      "model_module_version": "1.2.0",
      "model_name": "LayoutModel",
      "state": {
       "flex": "1 0 20em",
       "height": "3em",
       "width": "20em"
      }
     },
     "5d2d2fa3db684ff8a4a7ca4d88e2850c": {
      "model_module": "@jupyter-widgets/base",
      "model_module_version": "1.2.0",
      "model_name": "LayoutModel",
      "state": {
       "height": "500px"
      }
     },
     "5d91f901f0d4440fb47e747abdb86c64": {
      "model_module": "jupyter-leaflet",
      "model_module_version": "^0.11.0",
      "model_name": "LeafletMapStyleModel",
      "state": {
       "_model_module_version": "^0.11.0",
       "_view_count": null,
       "_view_module": "@jupyter-widgets/base",
       "_view_module_version": "1.2.0",
       "_view_name": "StyleView",
       "cursor": "move"
      }
     },
     "60b36042fbe34dc7b98155b6704665fd": {
      "model_module": "@jupyter-widgets/base",
      "model_module_version": "1.2.0",
      "model_name": "LayoutModel",
      "state": {
       "height": "500px"
      }
     },
     "62779912079842a9be80668402045036": {
      "model_module": "jupyter-leaflet",
      "model_module_version": "^0.11.0",
      "model_name": "LeafletAttributionControlModel",
      "state": {
       "_model_module_version": "^0.11.0",
       "_view_count": null,
       "_view_module_version": "^0.11.0",
       "options": [
        "position",
        "prefix"
       ],
       "position": "bottomright",
       "prefix": "Leaflet"
      }
     },
     "6962124c724845dabd8a68102fed50f5": {
      "model_module": "@jupyter-widgets/controls",
      "model_module_version": "1.5.0",
      "model_name": "HTMLModel",
      "state": {
       "layout": "IPY_MODEL_f5472babaab14e2e97dae87f327233ba",
       "style": "IPY_MODEL_36e68361c8744fe18834eea3cb27fb52",
       "value": "<pre style=\"color:grey\">lat: [-42.2285, -2.7236]\nlon: [90.7031, 175.3418]</pre>"
      }
     },
     "81cd1cac7c2b489ca6375fbbadd9fdfc": {
      "model_module": "jupyter-leaflet",
      "model_module_version": "^0.11.0",
      "model_name": "LeafletDrawControlModel",
      "state": {
       "_model_module_version": "^0.11.0",
       "_view_count": null,
       "_view_module_version": "^0.11.0",
       "options": [
        "position"
       ],
       "polygon": {
        "shapeOptions": {
         "color": "#000000",
         "editing": {
          "color": "#000000",
          "fillColor": "#fca45d",
          "fillOpacity": 0.1
         },
         "fillColor": "#fca45d",
         "fillOpacity": 0.1,
         "original": {
          "color": "#000000",
          "fillColor": "#fca45d",
          "fillOpacity": 0.1
         }
        }
       },
       "polyline": {},
       "rectangle": {
        "shapeOptions": {
         "color": "#000000",
         "fillColor": "#fca45d",
         "fillOpacity": 0.1
        }
       }
      }
     },
     "877bc93454cc429abe8a3b52dfe6a8a4": {
      "model_module": "@jupyter-widgets/controls",
      "model_module_version": "1.5.0",
      "model_name": "ButtonModel",
      "state": {
       "description": "done",
       "disabled": true,
       "layout": "IPY_MODEL_11f45c3060d74a36b5094573c34e2d2b",
       "style": "IPY_MODEL_c2f680b58c604c88ae35401fb56e720d"
      }
     },
     "a652af1eb8af48f292690a468359bccc": {
      "model_module": "@jupyter-widgets/base",
      "model_module_version": "1.2.0",
      "model_name": "LayoutModel",
      "state": {
       "width": "5em"
      }
     },
     "a66aa7018c8942258b689d7808c5fdcf": {
      "model_module": "jupyter-leaflet",
      "model_module_version": "^0.11.0",
      "model_name": "LeafletWidgetControlModel",
      "state": {
       "_model_module_version": "^0.11.0",
       "_view_count": null,
       "_view_module_version": "^0.11.0",
       "options": [
        "position"
       ],
       "position": "topright",
       "widget": "IPY_MODEL_877bc93454cc429abe8a3b52dfe6a8a4"
      }
     },
     "afd1d75f8cf14b719b6265b54c8b4ca4": {
      "model_module": "jupyter-leaflet",
      "model_module_version": "^0.11.0",
      "model_name": "LeafletTileLayerModel",
      "state": {
       "_model_module_version": "^0.11.0",
       "_view_count": null,
       "_view_module_version": "^0.11.0",
       "base": true,
       "max_native_zoom": 18,
       "max_zoom": 19,
       "min_native_zoom": 0,
       "min_zoom": 1,
       "no_wrap": false,
       "options": [
        "attribution",
        "detect_retina",
        "max_native_zoom",
        "max_zoom",
        "min_native_zoom",
        "min_zoom",
        "no_wrap",
        "tile_size"
       ]
      }
     },
     "b60c0f1b94a045109dbad1a7d52f56b3": {
      "model_module": "jupyter-leaflet",
      "model_module_version": "^0.11.0",
      "model_name": "LeafletTileLayerModel",
      "state": {
       "_model_module_version": "^0.11.0",
       "_view_count": null,
       "_view_module_version": "^0.11.0",
       "base": true,
       "max_native_zoom": 18,
       "max_zoom": 19,
       "min_native_zoom": 0,
       "min_zoom": 1,
       "no_wrap": false,
       "options": [
        "attribution",
        "detect_retina",
        "max_native_zoom",
        "max_zoom",
        "min_native_zoom",
        "min_zoom",
        "no_wrap",
        "tile_size"
       ]
      }
     },
     "b78eb32210c74bfeb70b0c89b02cc01e": {
      "model_module": "jupyter-leaflet",
      "model_module_version": "^0.11.0",
      "model_name": "LeafletWidgetControlModel",
      "state": {
       "_model_module_version": "^0.11.0",
       "_view_count": null,
       "_view_module_version": "^0.11.0",
       "options": [
        "position"
       ],
       "position": "bottomleft",
       "widget": "IPY_MODEL_3878443e5f9a473cb0dc776a4f71125a"
      }
     },
     "b7acf24ed19b42849812d49a1140bb0f": {
      "model_module": "jupyter-leaflet",
      "model_module_version": "^0.11.0",
      "model_name": "LeafletMapStyleModel",
      "state": {
       "_model_module_version": "^0.11.0",
       "_view_count": null,
       "_view_module": "@jupyter-widgets/base",
       "_view_module_version": "1.2.0",
       "_view_name": "StyleView",
       "cursor": "grab"
      }
     },
     "b9a9accecbaa45b1b40a53dbd2f97205": {
      "model_module": "@jupyter-widgets/controls",
      "model_module_version": "1.5.0",
      "model_name": "ButtonModel",
      "state": {
       "description": "done",
       "disabled": true,
       "layout": "IPY_MODEL_a652af1eb8af48f292690a468359bccc",
       "style": "IPY_MODEL_1d309ffe7b044f40aec37c17f057885e"
      }
     },
     "c2f680b58c604c88ae35401fb56e720d": {
      "model_module": "@jupyter-widgets/controls",
      "model_module_version": "1.5.0",
      "model_name": "ButtonStyleModel",
      "state": {
       "button_color": "green"
      }
     },
     "c8f3a28aefac429fa9285b911f8d731e": {
      "model_module": "jupyter-leaflet",
      "model_module_version": "^0.11.0",
      "model_name": "LeafletDrawControlModel",
      "state": {
       "_model_module_version": "^0.11.0",
       "_view_count": null,
       "_view_module_version": "^0.11.0",
       "options": [
        "position"
       ],
       "polygon": {
        "shapeOptions": {
         "color": "#000000",
         "editing": {
          "color": "#000000",
          "fillColor": "#fca45d",
          "fillOpacity": 0.1
         },
         "fillColor": "#fca45d",
         "fillOpacity": 0.1,
         "original": {
          "color": "#000000",
          "fillColor": "#fca45d",
          "fillOpacity": 0.1
         }
        }
       },
       "polyline": {},
       "rectangle": {
        "shapeOptions": {
         "color": "#000000",
         "fillColor": "#fca45d",
         "fillOpacity": 0.1
        }
       }
      }
     },
     "ccd798ad1524445a913b42cb4ab98f54": {
      "model_module": "jupyter-leaflet",
      "model_module_version": "^0.11.0",
      "model_name": "LeafletZoomControlModel",
      "state": {
       "_model_module_version": "^0.11.0",
       "_view_count": null,
       "_view_module_version": "^0.11.0",
       "options": [
        "position",
        "zoom_in_text",
        "zoom_in_title",
        "zoom_out_text",
        "zoom_out_title"
       ]
      }
     },
     "ce59302d33cc4a2ea4ae81fb7cd08db2": {
      "model_module": "jupyter-leaflet",
      "model_module_version": "^0.11.0",
      "model_name": "LeafletFullScreenControlModel",
      "state": {
       "_model_module_version": "^0.11.0",
       "_view_count": null,
       "_view_module_version": "^0.11.0",
       "options": [
        "position"
       ]
      }
     },
     "d8cdfae7bfaf4b37a0c33ebf035ee69e": {
      "model_module": "jupyter-leaflet",
      "model_module_version": "^0.11.0",
      "model_name": "LeafletMapStyleModel",
      "state": {
       "_model_module_version": "^0.11.0",
       "_view_count": null,
       "_view_module": "@jupyter-widgets/base",
       "_view_module_version": "1.2.0",
       "_view_name": "StyleView",
       "cursor": "move"
      }
     },
     "dfdc1de194eb4812b340270d90af33d1": {
      "model_module": "jupyter-leaflet",
      "model_module_version": "^0.11.0",
      "model_name": "LeafletZoomControlModel",
      "state": {
       "_model_module_version": "^0.11.0",
       "_view_count": null,
       "_view_module_version": "^0.11.0",
       "options": [
        "position",
        "zoom_in_text",
        "zoom_in_title",
        "zoom_out_text",
        "zoom_out_title"
       ]
      }
     },
     "e297a94a5f6b4adb9c0002ace95880d8": {
      "model_module": "jupyter-leaflet",
      "model_module_version": "^0.11.0",
      "model_name": "LeafletMapStyleModel",
      "state": {
       "_model_module_version": "^0.11.0",
       "_view_count": null,
       "_view_module": "@jupyter-widgets/base",
       "_view_module_version": "1.2.0",
       "_view_name": "StyleView",
       "cursor": "grab"
      }
     },
     "f4b80ef7da034870bba08df4e16b4d12": {
      "model_module": "@jupyter-widgets/controls",
      "model_module_version": "1.5.0",
      "model_name": "DescriptionStyleModel",
      "state": {
       "description_width": ""
      }
     },
     "f5472babaab14e2e97dae87f327233ba": {
      "model_module": "@jupyter-widgets/base",
      "model_module_version": "1.2.0",
      "model_name": "LayoutModel",
      "state": {
       "flex": "1 0 20em",
       "height": "3em",
       "width": "20em"
      }
     }
    },
    "version_major": 2,
    "version_minor": 0
   }
  }
 },
 "nbformat": 4,
 "nbformat_minor": 2
}
