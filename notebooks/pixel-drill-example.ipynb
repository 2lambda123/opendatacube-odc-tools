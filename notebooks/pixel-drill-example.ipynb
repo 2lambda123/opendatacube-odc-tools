{
 "cells": [
  {
   "cell_type": "code",
   "execution_count": 1,
   "metadata": {},
   "outputs": [],
   "source": [
    "%matplotlib inline\n",
    "from matplotlib import pyplot as plt\n",
    "import numpy as np\n",
    "from timeit import default_timer as t_now"
   ]
  },
  {
   "cell_type": "code",
   "execution_count": 2,
   "metadata": {},
   "outputs": [],
   "source": [
    "from datacube import Datacube\n",
    "from datacube.storage.storage import measurement_paths\n",
    "from dea.io.pdrill import PixelDrill\n",
    "from dea.aws.rioworkerpool import RioWorkerPool\n",
    "\n",
    "dc = Datacube(env='wofs')"
   ]
  },
  {
   "cell_type": "markdown",
   "metadata": {},
   "source": [
    "## Setup PixelDrill Worker Pool"
   ]
  },
  {
   "cell_type": "code",
   "execution_count": 3,
   "metadata": {},
   "outputs": [],
   "source": [
    "nthreads = 32\n",
    "pool = RioWorkerPool(nthreads=nthreads, max_header_sz_kb=32)\n",
    "pdrill = PixelDrill(pool)"
   ]
  },
  {
   "cell_type": "markdown",
   "metadata": {},
   "source": [
    "## Query Datacube\n",
    "\n",
    "- Find datasets\n",
    "- Sort them by time\n",
    "- Extract urls for a band of interest (`water` in this case)\n",
    "- Extract timestamps"
   ]
  },
  {
   "cell_type": "code",
   "execution_count": 4,
   "metadata": {},
   "outputs": [],
   "source": [
    "lon_lat = (148.02310311982876, -35.33091506569685)"
   ]
  },
  {
   "cell_type": "code",
   "execution_count": 5,
   "metadata": {},
   "outputs": [
    {
     "name": "stdout",
     "output_type": "stream",
     "text": [
      "CPU times: user 671 ms, sys: 20 ms, total: 691 ms\n",
      "Wall time: 779 ms\n"
     ]
    }
   ],
   "source": [
    "%%time\n",
    "lon, lat = lon_lat\n",
    "dss = dc.find_datasets(product='wofs_albers', lon=lon, lat=lat)"
   ]
  },
  {
   "cell_type": "code",
   "execution_count": 6,
   "metadata": {},
   "outputs": [
    {
     "name": "stdout",
     "output_type": "stream",
     "text": [
      "CPU times: user 43.2 ms, sys: 0 ns, total: 43.2 ms\n",
      "Wall time: 42.4 ms\n"
     ]
    }
   ],
   "source": [
    "%%time\n",
    "dss = sorted(dss, key=lambda ds: ds.center_time)"
   ]
  },
  {
   "cell_type": "code",
   "execution_count": 7,
   "metadata": {},
   "outputs": [],
   "source": [
    "tt = [ds.center_time for ds in dss]\n",
    "urls = [measurement_paths(ds)['water'] for ds in dss]"
   ]
  },
  {
   "cell_type": "markdown",
   "metadata": {},
   "source": [
    "## Warmup The Pool\n",
    "\n",
    "This is not needed in the real app. Very first file `open` takes significantly longer than consequent `open` calls as GDAL configures various per-thread structures. Since in the real app we expect to re-use worker threads, this cost will get amortised across many requests. But to get more accurate timing measures in the Load Pixels section we perform \"pool warmup here\"."
   ]
  },
  {
   "cell_type": "code",
   "execution_count": 8,
   "metadata": {},
   "outputs": [
    {
     "name": "stdout",
     "output_type": "stream",
     "text": [
      "CPU times: user 2.95 s, sys: 1.89 s, total: 4.84 s\n",
      "Wall time: 2.38 s\n"
     ]
    }
   ],
   "source": [
    "%%time\n",
    "pix_warmup = pdrill.lazy_read([urls[-1]]*nthreads, pixel=(0,0)).result()"
   ]
  },
  {
   "cell_type": "markdown",
   "metadata": {},
   "source": [
    "## Load Pixels"
   ]
  },
  {
   "cell_type": "code",
   "execution_count": 9,
   "metadata": {},
   "outputs": [
    {
     "name": "stdout",
     "output_type": "stream",
     "text": [
      "CPU times: user 7.52 s, sys: 775 ms, total: 8.29 s\n",
      "Wall time: 3.14 s\n"
     ]
    }
   ],
   "source": [
    "%%time\n",
    "t0 = t_now()\n",
    "pix = pdrill.lazy_read(urls, lonlat=lon_lat) # this should return quickly\n",
    "t1 = t_now()\n",
    "pix = pix.result() # This will block until all files are loaded\n",
    "t2 = t_now()"
   ]
  },
  {
   "cell_type": "code",
   "execution_count": 10,
   "metadata": {},
   "outputs": [
    {
     "name": "stdout",
     "output_type": "stream",
     "text": [
      "\n",
      "- 32 worker threads\n",
      "- 1,539 files\n",
      "- 3.144 seconds to completion (77.7 ms to schedule)\n",
      "- 489.5 fps (15.3 per thread)\n",
      "\n"
     ]
    }
   ],
   "source": [
    "t_total = t2 - t0\n",
    "fps = len(urls)/t_total\n",
    "\n",
    "print('''\n",
    "- {:d} worker threads\n",
    "- {:,d} files\n",
    "- {:.3f} seconds to completion ({:.1f} ms to schedule)\n",
    "- {:.1f} fps ({:.1f} per thread)\n",
    "'''.format(nthreads,\n",
    "           len(urls), \n",
    "           t_total,\n",
    "           (t1-t0)*1000,\n",
    "           fps, \n",
    "           fps/nthreads))"
   ]
  },
  {
   "cell_type": "code",
   "execution_count": 11,
   "metadata": {},
   "outputs": [
    {
     "data": {
      "image/png": "[encoded data removed]",
      "text/plain": [
       "<matplotlib.figure.Figure at 0x7ff98c4d2940>"
      ]
     },
     "metadata": {},
     "output_type": "display_data"
    }
   ],
   "source": [
    "fig,ax = plt.subplots(1,1, figsize=(16,4))\n",
    "plt.plot(tt, pix, '.');"
   ]
  },
  {
   "cell_type": "markdown",
   "metadata": {},
   "source": [
    "-----------------------------------------------"
   ]
  }
 ],
 "metadata": {
  "kernelspec": {
   "display_name": "Python 3",
   "language": "python",
   "name": "python3"
  },
  "language_info": {
   "codemirror_mode": {
    "name": "ipython",
    "version": 3
   },
   "file_extension": ".py",
   "mimetype": "text/x-python",
   "name": "python",
   "nbconvert_exporter": "python",
   "pygments_lexer": "ipython3",
   "version": "3.6.6"
  }
 },
 "nbformat": 4,
 "nbformat_minor": 2
}
