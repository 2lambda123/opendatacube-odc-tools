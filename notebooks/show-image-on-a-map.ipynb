{
 "cells": [
  {
   "cell_type": "code",
   "execution_count": null,
   "metadata": {},
   "outputs": [],
   "source": [
    "from IPython.display import display\n",
    "import ipyleaflet as L\n",
    "from ipywidgets import widgets as w\n",
    "import numpy as np\n",
    "\n",
    "from odc.ui import show_datasets, mk_image_overlay, with_ui_cbk\n",
    "from datacube import Datacube\n",
    "from datacube.utils.rio import set_default_rio_config\n",
    "\n",
    "set_default_rio_config(aws={'region_name': 'auto'}, \n",
    "                       cloud_defaults=True)\n",
    "\n",
    "dc = Datacube(env='s2')\n",
    "qq = dict(lat=(-34, -31), \n",
    "          lon=(137, 138.5),\n",
    "          time='2019-04-10')\n",
    "\n",
    "dss = dc.find_datasets(product='s2a_nrt_granule', \n",
    "                       **qq)\n",
    "\n",
    "RGB=('nbar_red', 'nbar_green', 'nbar_blue')\n",
    "xx = dc.load(product='s2a_nrt_granule',\n",
    "        datasets=dss,\n",
    "        output_crs='EPSG:3857',  # This is what Leaflet uses by default\n",
    "        measurements=RGB,\n",
    "        group_by='solar_day',\n",
    "        resolution=(-200, 200),\n",
    "        progress_cbk=with_ui_cbk())\n",
    "xx"
   ]
  },
  {
   "cell_type": "code",
   "execution_count": null,
   "metadata": {},
   "outputs": [],
   "source": [
    "m = show_datasets(dss,\n",
    "                  style={'opacity': 0.3, 'fillOpacity': 0},\n",
    "                  width='600px', \n",
    "                  height='600px', \n",
    "                  scroll_wheel_zoom=True)\n",
    "img_layer = mk_image_overlay(xx, clamp=3000, fmt='png')\n",
    "\n",
    "slider = w.FloatSlider(min=0, max=1, value=1, \n",
    "                       orientation='vertical',\n",
    "                       readout=False,\n",
    "                       layout=w.Layout(width='2em'))\n",
    "\n",
    "w.jslink((slider, 'value'),\n",
    "         (img_layer, 'opacity') )\n",
    "\n",
    "m.add_control(L.WidgetControl(widget=slider))\n",
    "m.add_layer(img_layer)\n",
    "\n",
    "display(m)"
   ]
  },
  {
   "cell_type": "markdown",
   "metadata": {},
   "source": [
    "------------------------------------------------"
   ]
  }
 ],
 "metadata": {
  "kernelspec": {
   "display_name": "Python 3",
   "language": "python",
   "name": "python3"
  },
  "language_info": {
   "codemirror_mode": {
    "name": "ipython",
    "version": 3
   },
   "file_extension": ".py",
   "mimetype": "text/x-python",
   "name": "python",
   "nbconvert_exporter": "python",
   "pygments_lexer": "ipython3",
   "version": "3.6.7"
  }
 },
 "nbformat": 4,
 "nbformat_minor": 2
}
